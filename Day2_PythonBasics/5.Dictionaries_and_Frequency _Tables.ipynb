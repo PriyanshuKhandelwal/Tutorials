{
 "cells": [
  {
   "cell_type": "markdown",
   "metadata": {},
   "source": [
    "## 1.Storing Data"
   ]
  },
  {
   "cell_type": "markdown",
   "metadata": {},
   "source": [
    "* If we wanted to save the data from the table, we could use `two lists` or maybe a `list of lists.`"
   ]
  },
  {
   "cell_type": "code",
   "execution_count": 1,
   "metadata": {},
   "outputs": [],
   "source": [
    "content_ratings=['4+','9+','12+','17+']\n",
    "numbers=[4433,987,1155,622]\n",
    "content_rating_numbers=[['4+','9+','12+','17+'],[4433,987,1155,622]]"
   ]
  },
  {
   "cell_type": "markdown",
   "metadata": {},
   "source": [
    "## 2.Dictionaries"
   ]
  },
  {
   "cell_type": "markdown",
   "metadata": {},
   "source": [
    "* Mapped each content rating to its corresponding number by following an `index:value` pattern."
   ]
  },
  {
   "cell_type": "code",
   "execution_count": 2,
   "metadata": {},
   "outputs": [
    {
     "name": "stdout",
     "output_type": "stream",
     "text": [
      "{'4+': 4433, '9+': 987, '12+': 1155, '17+': 622}\n"
     ]
    }
   ],
   "source": [
    "content_ratings={'4+':4433,'9+':987,'12+':1155,'17+':622}\n",
    "print(content_ratings)"
   ]
  },
  {
   "cell_type": "markdown",
   "metadata": {},
   "source": [
    "## 3.  Indexing\n",
    "* `variable_name[index]`"
   ]
  },
  {
   "cell_type": "code",
   "execution_count": 3,
   "metadata": {},
   "outputs": [
    {
     "data": {
      "text/plain": [
       "622"
      ]
     },
     "execution_count": 3,
     "metadata": {},
     "output_type": "execute_result"
    }
   ],
   "source": [
    "content_ratings['17+']"
   ]
  },
  {
   "cell_type": "markdown",
   "metadata": {},
   "source": [
    "## 4. Alternative Way of Creating a Dictionary\n",
    "* `dictionary_name[index] = value`"
   ]
  },
  {
   "cell_type": "code",
   "execution_count": 4,
   "metadata": {},
   "outputs": [
    {
     "data": {
      "text/plain": [
       "{'4+': 4433, '9+': 987, '12+': 1155, '17+': 622}"
      ]
     },
     "execution_count": 4,
     "metadata": {},
     "output_type": "execute_result"
    }
   ],
   "source": [
    "content_ratings={}\n",
    "content_ratings['4+']=4433\n",
    "content_ratings['9+']=987\n",
    "content_ratings['12+']=1155\n",
    "content_ratings['17+']=622\n",
    "over_12_n_apps=content_ratings['12+']\n",
    "content_ratings"
   ]
  },
  {
   "cell_type": "markdown",
   "metadata": {},
   "source": [
    "## 5.Key-Value Pairs"
   ]
  },
  {
   "attachments": {
    "image.png": {
     "image/png": "[encoded data removed]"
    }
   },
   "cell_type": "markdown",
   "metadata": {},
   "source": [
    "![image.png](attachment:image.png)"
   ]
  },
  {
   "cell_type": "code",
   "execution_count": 5,
   "metadata": {},
   "outputs": [
    {
     "data": {
      "text/plain": [
       "{'key_1': 'first_value',\n",
       " 'key_2': 2,\n",
       " 'key_3': 3.14,\n",
       " 'key_4': True,\n",
       " 'key_5': [4, 2, 1],\n",
       " 'key_6': {'inner_key': 6}}"
      ]
     },
     "execution_count": 5,
     "metadata": {},
     "output_type": "execute_result"
    }
   ],
   "source": [
    "d_1={'key_1': 'first_value', \n",
    " 'key_2': 2,\n",
    " 'key_3': 3.14,                          # value can be int,float,string,dict,list\n",
    " 'key_4': True,\n",
    " 'key_5': [4,2,1],\n",
    " 'key_6': {'inner_key' : 6}}\n",
    "d_1"
   ]
  },
  {
   "cell_type": "markdown",
   "metadata": {},
   "source": [
    "## 6.Checking for Membership\n",
    "An expression of the form **a_value in a_dictionary** always returns a Boolean value:\n",
    "\n",
    "* True is returned if a_value exists in a_dictionary as a dictionary key.\n",
    "* False is returned if a_value doesn't exist in a_dictionary as a dictionary key."
   ]
  },
  {
   "cell_type": "code",
   "execution_count": 6,
   "metadata": {},
   "outputs": [
    {
     "name": "stdout",
     "output_type": "stream",
     "text": [
      "It exists\n"
     ]
    }
   ],
   "source": [
    "content_ratings = {'4+': 4433, '9+': 987, '12+': 1155, '17+': 622}\n",
    "is_in_dictionary_1= '9+' in content_ratings\n",
    "is_in_dictionary_2=987 in content_ratings\n",
    "if '17+' in content_ratings:\n",
    "    result=\"It exists\"\n",
    "print(result)"
   ]
  },
  {
   "cell_type": "markdown",
   "metadata": {},
   "source": [
    "## 7. Counting with Dictionaries"
   ]
  },
  {
   "cell_type": "code",
   "execution_count": 8,
   "metadata": {},
   "outputs": [
    {
     "name": "stdout",
     "output_type": "stream",
     "text": [
      "[['', 'id', 'track_name', 'size_bytes', 'currency', 'price', 'rating_count_tot', 'rating_count_ver', 'user_rating', 'user_rating_ver', 'ver', 'cont_rating', 'prime_genre', 'sup_devices.num', 'ipadSc_urls.num', 'lang.num', 'vpp_lic'], ['1', '281656475', 'PAC-MAN Premium', '100788224', 'USD', '3.99', '21292', '26', '4', '4.5', '6.3.5', '4+', 'Games', '38', '5', '10', '1']]\n",
      "{'4+': 0, '9+': 0, '12+': 0, '17+': 0}\n"
     ]
    }
   ],
   "source": [
    "opened_file = open('AppleStore.csv',encoding='utf-8')\n",
    "from csv import reader\n",
    "read_file = reader(opened_file)\n",
    "apps_data = list(read_file)\n",
    "print(apps_data[:2])\n",
    "\n",
    "content_ratings={'4+': 0, '9+': 0, '12+': 0, '17+': 0}\n",
    "\n",
    "for app in apps_data[1:]:\n",
    "    c_rating=app[10]\n",
    "    if c_rating in content_ratings:\n",
    "        content_ratings[c_rating]+=1\n",
    "print(content_ratings)"
   ]
  },
  {
   "cell_type": "markdown",
   "metadata": {},
   "source": [
    "## 8. Finding the Unique Values"
   ]
  },
  {
   "cell_type": "markdown",
   "metadata": {},
   "source": [
    "Previously, we created the dictionary {'4+': 0, '9+': 0, '12+': 0, '17+': 0} before we looped over the data set to count the occurrence of each content rating. Unfortunately, this approach requires us to know beforehand the unique values we want to count.\n",
    "\n",
    "Let's say we didn't know what the unique content ratings are. This means that we don't have enough information to create the dictionary {'4+': 0, '9+': 0, '12+': 0, '17+': 0}. We need to devise a way to extract this information."
   ]
  },
  {
   "cell_type": "code",
   "execution_count": 9,
   "metadata": {},
   "outputs": [
    {
     "name": "stdout",
     "output_type": "stream",
     "text": [
      "{'6.3.5': 2, '8.2.2': 2, '5.0.0': 6, '5.10.0': 3, '7.5.1': 3, '1.8': 36, '6.12.0': 1, '8.4.1': 2, '3.6.6': 1, '4.0.4': 5, '4.10.1': 3, '5.19.0': 3, '27.0': 2, '7.3.8': 2, '4.0.3': 3, '21.1': 1, '95.0': 1, '11.15.0': 1, '11.0.3': 1, '1.0.0': 187, '3.3': 13, '5.2.6': 2, '6.9': 2, '9.0.5': 1, '2.1.3': 7, '2.0.6': 7, '10.5.4': 1, '1.9.8': 2, '3.4.1': 10, '9.1.32': 1, '9.6': 1, '5.0': 18, '5.5.3': 2, '7.2': 5, '8.0.0': 2, '2.4': 30, '8.0.3': 1, '5.2': 4, '1.7.177604': 1, '3.8.2': 5, '6.19.0': 1, '2.9.0': 7, '3.9.2': 3, '7.1.6': 1, '4.0.8': 3, '3.5.13': 1, '7.0': 4, '4.8.2': 2, '4.56.1': 1, '7.2.3': 2, '8.11': 1, '8.2.0': 1, '2.5.9.2': 1, '10.18.0': 1, '9.30': 1, '7.1': 4, '8.0.2': 2, '8.21.0': 1, '1.1.0': 73, '9.10.0': 1, '1.5.1': 22, '4.8.1': 3, '7.0.1': 3, '2.610': 1, '4.1.1': 20, '6.3': 6, '6.2.1': 3, '24.2': 1, '10.4.1': 1, '5.9.0': 3, '5.16': 1, '4.3': 6, '5.1.0': 6, '1.48.2': 1, '5.4.1': 6, '8.5.0': 2, '3.2.0': 6, '5.11': 1, '3.3.2': 4, '10.10.46': 2, '2.29.13': 1, '17.05.15': 1, '11.0.10': 1, '3.6.1': 6, '1.7': 54, '6.35.1': 2, '8.6': 4, '5.1': 11, '17.05.01': 1, '3.3.0': 7, '17.5.5': 2, '11.2': 1, '8.7.5': 1, '3.6': 11, '10.2.2': 2, '7.4': 2, '4.9.705': 2, '2.8.1': 5, '3.17.6': 1, '3.5.1': 9, '6.52': 1, '9.9': 1, '1.8.3': 10, '5.0.1': 8, '7.1.3': 3, '5.0.11': 1, '9.0.701': 1, '5.3': 14, '7.3.0': 3, '7.7.0': 1, '1.8.9': 3, '4.6.1': 5, '2.17.22': 1, '1.9.1': 6, '10.4.5': 1, '1.2.1': 66, '2.3.1': 9, '3.55': 1, '4.0.5': 5, '9.1.10': 1, '3.0.3': 11, '4.5.3': 6, '12.2': 1, '7.32.3': 1, '6.3.1': 5, '1.41.1': 1, '1.7.2': 10, '2.5.1': 16, '2.0.4': 10, '8.5.1': 2, '4.5': 6, '10.11.0': 1, '1.12': 16, '1.5.95': 1, '2.1.2': 12, '2.01': 6, '4.6': 5, '5.7.1': 1, '1.9.0': 12, '1.4.10': 2, '2.89': 1, '1.1': 266, '1.5': 95, '8.0.263': 1, '8.1': 2, '11.9': 2, '5.11.0': 2, '3.9.1': 4, '8.3.17': 1, '2.17': 4, '1.1.2': 55, '3.1.3': 4, '5.7': 4, '3.1': 35, '2.6': 13, '0.39': 1, '1.45.1': 1, '5.1.4': 3, '1.04.10': 1, '4.24': 1, '114': 1, '1.8.7': 3, '9.3': 1, '8.4.3': 3, '4.0.16': 1, '5.0.3': 5, '6.06': 1, '4.1.2': 7, '6.4.0': 1, '5.4.3': 3, '3.3.3': 5, '1.6.7': 3, '2.6.042': 1, '8.0.353': 1, '50.2': 1, '2.0.3': 17, '4.02': 1, '9.1.0': 2, '10.9.13': 1, '9.1': 1, '1.3.0': 40, '2.5.0': 11, '3.4': 17, '9.5.1': 1, '4.5.4': 2, '4.3.5': 3, '6.2.0': 3, '5.1.3': 2, '5': 1, '2.31': 1, '10.0.15': 1, '4.0': 30, '1.7.3': 10, '6.79.1': 1, '22': 1, 'iOV 2.1.3': 1, '1.62': 1, '4.6.2': 4, '6.08': 1, '6.5': 3, '2.3.2': 6, '2013.4.3': 1, '4.2': 15, '5.10.3': 1, '17.0': 1, '6.7.0': 2, '2.7': 19, '5.6.0': 5, '7.0.84': 1, '9.4.1': 4, '7.3': 6, '1.17.11': 1, '4.2.2': 5, '2.8.0': 6, '5.2.1': 3, '1.4.04': 1, '5.25': 1, '11.0.2': 1, '2.2': 47, '3.5.3': 4, '12.8.0': 1, '1.5.0': 30, '17.8': 1, '5.5': 7, '12.0': 2, '5.01': 1, '5.24': 2, '17.5.1.0': 1, '1.9.3': 5, '2.1': 67, '7.16': 2, '4.0.1': 18, '39.1': 1, '337': 1, '6.0.3': 4, '2.8.2': 11, '3.38': 1, '1.24.1': 1, '7.11': 1, '7.4.0': 3, '17.04.00': 1, '38.0': 1, '9.5': 1, '4.4': 3, '4.5.1': 8, '1.2.21': 1, '3.98': 2, '2.2.9': 2, '4.1': 11, '1.19': 4, '5.3.2': 1, '3.1.10': 1, '6.0': 8, '7.9.5': 1, '3.0.8': 2, '2.2.0': 15, '5.2.0': 8, '2.9.5': 2, '3.1.0': 15, '8.6.1': 3, '1.9.13': 3, '7.5.2': 2, '9.2.4': 1, '7.1.0': 4, '5.8.0': 4, '1.11.0': 4, '3.4.2': 5, '1.5.4': 13, '2.5.11': 1, '5.30': 1, '2.10': 7, '17.7': 1, '9.2': 3, '1.1.5': 26, '1.0': 317, '5.4': 11, '1.00.12': 1, '1.5.5': 5, '1.1.1': 87, '1.25': 4, '7.6': 2, '2.8': 13, '4.0.2': 7, '2.0.2': 19, '6.14.0': 1, '11.21.0': 1, '3.0.7': 3, '3.9.5': 3, '3.1.2': 8, '2.5': 34, '4.11.2': 1, '6.5.2': 2, '5.21.1': 1, '2.3.9': 1, '1.14.3': 1, '1.9.12': 2, '3.2.5': 6, '9.0.1': 1, '3.0': 37, '9.21.3': 1, '10.2.5': 1, '9.11': 1, '3.2.6': 2, '5.98': 1, '1.3.3': 13, '7.2.8': 1, '5.0.14': 1, '1.3.177598': 1, '1.2': 218, '2.2.1': 24, '8.3': 1, '9.7': 1, '2.0': 94, '1.2.3': 23, '4.169': 1, '1.6.5': 4, '3.14.1': 1, '3.6.4': 1, '14.4': 1, '1.6.1': 18, '4.1.11': 2, '2.0.100': 1, '5.9.2': 2, '3.247.2': 1, '6.2': 7, '3.4.4': 2, '4.3.7': 3, '3.62': 1, '1.01': 15, '7.4.1': 3, '3.620': 1, '4.1.219400': 1, '12.1.1.0': 1, '3.5': 14, '1.26.1': 1, '10.6.3': 1, '2.0.30': 1, '4.4.2': 2, '1.5.7': 3, '1.0.5': 56, '4.6.7': 2, '2.3': 36, '6.8.9': 2, '4.28': 1, '3.0.4': 11, '5.7.1150': 1, '11.0.1': 1, '3.0.19': 2, '1.7.0': 10, '5.2.135': 1, '2.1.0': 25, '4.4.3': 2, '3.2': 20, '1.21': 10, '10.4.3': 1, '10': 2, '1.0.1': 180, '1.80': 2, '2.4.1': 17, '2.23': 2, '3.82': 1, '1.71': 7, '6.1.1': 3, '8.9.6': 1, '3.3.4': 3, '4.2.7': 1, '10.2.1': 1, '2.09': 2, '6.1': 5, '10.12': 1, '8.6.5': 1, '17.4': 1, '2.7.4.1': 1, '6.9.0': 1, '2.0.1': 32, '1.9': 25, '1.9.4': 3, '13.7.1': 1, '4.14.1': 2, '8.0.6': 1, '4.0.0': 8, '1.4.3': 15, '17.10': 1, '6.9.8': 1, '3.0.2': 16, '1.4.1': 29, '6.7.2': 1, '9.2.1': 1, '3.0.0': 13, '7.9.9': 1, '1.1.83': 1, '6.7.8': 1, '5.90': 1, '14.1.4': 1, '10.23': 1, '2.4.2': 9, '2.6.041': 1, '6.1.55': 1, '4.1.4': 1, '2.1.11': 2, '5.4.4': 1, '3.2.1': 8, '2.7.1': 8, '4.0.3.005': 1, '11.9.6': 1, '2.6.1': 9, '2.0.0': 26, '2.2.2': 10, '4.0.05066': 1, '5.3.0': 4, '1.7.6': 3, '3.9.0': 6, '5.4.11': 1, '17.3': 1, '8.2.1': 2, '1.6': 60, '1.3.10': 4, '5.72': 2, '4.10.12': 1, '1.2.81': 1, '2.84': 2, '5.5.2': 2, '6.3.3': 2, '3.4.0': 9, '4.7.0': 6, '1.65': 1, '111': 1, '6.0.5': 2, '1.27.3': 1, '1.3.6': 11, '4.7.2': 1, '6.6.1': 2, '1.4.4': 11, '4.981': 1, '5.5.9': 1, '3.6.0': 3, '1.3.4': 15, '1.0.3': 95, '3.4.7': 2, '1.3.9': 8, '9.25': 1, '5.3.6': 1, '1.8.1': 8, '4.4.1': 7, '17.22': 1, '3.29': 2, '2.1.1': 22, '9.2.2': 1, '4.1.6': 2, '10.11': 1, '1.1.35': 1, '1.3.1': 50, '1.11': 16, '1.22.1': 1, '1.05.05': 1, '9.1.5': 1, '1.1.93': 1, '5.0.8': 1, '10.33': 1, '4.4.6.1': 1, '3.7.6': 2, '4.40': 2, '5.19.1': 1, '10.15': 1, '7.5': 5, '5.1.5': 1, '2.02': 11, '4.30': 1, '1.29': 3, '1.131': 1, '5.5.0': 6, '4.2.1': 7, '2.1.46': 1, '5.71': 1, '9.4.5': 1, '3.7.0': 4, '1.07': 7, '16.0': 1, '4.20.9': 1, '3.15.0': 2, '2.16.6': 2, '5.12.1': 1, '6.1.4': 2, '5.7.2': 1, '1.10.1': 5, '3.0.1': 15, '4.28.0': 1, '3.0.5': 9, '4.0.12': 2, '5.3.1': 6, '6.1.0': 3, '6.6': 7, '6.5.8': 1, '6.7.1': 1, '1.09': 7, '1.15.1': 1, '10.7': 1, '3.8.5': 1, '6.1.2': 3, '9.0': 4, '3.6.9': 2, '4.5.6': 1, '1.6.2': 12, '2.6.6': 4, '3.08': 1, '1.30.0': 1, '2.18.2': 1, '8.3.1': 2, '5.2.2': 4, '3.3.12': 1, '5.0.170507': 1, '5.7.0': 4, '8.1.0': 1, '2017.01': 1, '7.0.4': 2, '3.0.0.7.1': 1, '4.2.5': 3, '1.7.5': 6, '5.2.5': 1, '3.1.5': 6, '1.16': 6, '23.2': 1, '6.3.0': 3, '5.8.2': 2, '1.1.36': 1, '1.2.7': 7, '8.4': 2, '3.5.4': 3, '8.0.1': 1, '17.21': 1, '6.3.8': 1, '3.1.6': 3, '1.9.9': 4, '6.26': 1, '4.6.8': 1, '10.1.0': 1, '1.0.19': 3, '3.3.1': 8, '5.7.6': 2, '1.6.4': 7, '2.9': 10, '6.3.9': 1, '3.46': 1, '2.293.126451': 1, '3.52.1': 1, '3.9': 2, '4.30.5': 2, '4.1.0': 11, '1.05.02': 1, '3.1.50': 1, '4.1.4.1': 1, '9.7.2': 1, '1.0.7': 33, '1.0.6': 46, '6.7.5': 1, '7.0.0': 2, '5.1.1': 5, '3.7.1': 5, '4.2.0': 7, '5.2.7': 2, '5.8.9': 1, '3.9.12': 2, '1.1.4': 29, '6.4.16': 1, '5.5.4': 2, '3.1.1': 15, '2.11.1': 1, '1.6.0': 16, '7.0.8': 1, '3.3.9': 1, '4.99.6': 1, '2.8.24': 2, '4.8.0': 4, '1.0.23': 3, '8.5.6': 1, '3.7.5': 1, '5.8.6': 1, '5.86': 1, '7.5.0': 2, '7.9.6': 1, '2.53': 1, '4.6.0': 3, '3.26.0': 1, '6.9.1': 3, '2.6.2': 7, '6.1.3': 2, '8.0.27': 1, '5.52.001': 1, '1.2.0': 47, '4.11.1': 2, '10.9.2.0': 1, '9.1.4': 2, '2.3.5': 3, '1.6.6': 9, '7.50': 1, '7.7.47': 1, '7.12.17': 1, '1.14.1.58': 1, '2.1.19': 1, '1.10.4': 2, '2.0.9': 6, '1.43': 3, '1.08': 2, '9.8.2': 1, '3.2.4': 1, '3.18': 2, '6.4.3': 1, '119.0': 1, '7.2.1': 1, '2.21': 4, '1.37.1': 1, '1.4': 108, '2.6.3': 6, '1.9.24': 1, '3.16.4': 1, '5.5.1': 2, '5.6.2': 2, '6.0.2': 3, '1.00.01': 3, '3.20.2': 1, '4.0.7': 4, '8.0.8': 2, '1.9.2': 12, '2.36': 1, '3.2.2': 4, '5.4.0': 4, '3.17.1': 1, '4.13.2': 1, '1.1.8': 10, '3.0.9': 5, '1.8.4': 3, '1.42.1': 1, '2.11': 5, '5.29.0': 1, '3.7': 6, '1.6.3': 7, '2.3.3': 9, '6.2.4.0': 1, '3.95': 2, '2.10.17': 1, '17.05.23': 1, '1.03.22': 1, '4.3.0': 3, '1.29.1': 3, '16.1': 2, '2.70': 1, '1.13': 11, '1.3.5': 11, '16.13.0': 1, '13.25.0': 1, '5.10': 1, '7.19.46': 1, '2.14': 2, '3.10.1': 1, '3.10.0': 1, '2.9.1': 6, '2.0.177': 1, '8.3.0': 2, '6.50.10': 1, '4.66': 1, '8.16': 1, '2.2.3': 9, '1.96': 3, '4.10': 2, '3.14': 3, '2.9.8': 3, '1.5.6': 2, '9.0.0': 2, '13.01': 1, '2.6.0': 6, '2.0.36': 2, '7.10.5': 1, '4.5.7': 1, '2.2.12': 4, '3.18.3': 1, '2.7.2': 5, '6.6.70': 1, '1.0.9': 20, '11.1': 1, '3.5.0': 6, '3.8': 6, '10.1': 1, '2.4.5': 2, '1.1.6': 11, '4.8': 6, '3.14.2': 1, '10.0.0': 1, '6.4': 4, '5.9.4': 2, '1.4.0': 30, '5.2.4': 3, '4.4.5': 2, '2.8.4': 3, '6.5.01': 1, '4.3.3': 1, '3.0.17': 3, '5.9.1': 1, '7.8.2': 1, '3.0.10': 2, '3.2.12': 1, '7.5.4': 1, '4.0.9': 3, '1.52': 1, '1.0.2': 129, '6.3.1519': 1, '10.2': 3, 'v2.13.9': 1, '2.00': 3, '3.10': 2, '1.7.4': 11, '2.13.2': 1, '6.6.3': 1, '1.45': 3, '4.3.2016091601': 1, '3.6.2': 7, '1.0.8': 24, '1.61': 3, '1.0.16': 2, '1.31': 8, '4.27.0': 1, '1.5.3': 13, '1.20': 3, '1.0.11': 4, '1.12.1': 5, '1.1.3': 32, '2.5.2': 7, '1.3': 136, '1.99995': 1, '4.3.2': 4, '1.8.72': 1, '5.9': 2, '7.1.02': 1, '3.32.0': 1, '7.9.2': 1, '10.0.0.984': 1, '4.2.3': 2, '8.9': 3, '7.9': 2, '1.33.134': 1, '4.2017.17212': 1, '1.0.4': 72, '7.0.3': 1, '6.23': 1, '5.2.3': 3, '7.4.3': 2, '7.3.11': 1, '6.5.0': 1, '5.8.4': 1, '2.1.4': 1, '6.7.4': 1, '3.9.21': 1, '8.19.2': 1, '1.72.1': 1, '6.0.1': 7, '3.762': 1, '4.6.3': 1, '7.1.4': 1, '1.3.2.0': 1, '14.0.4': 1, '5.2.9': 1, '2.12': 3, '4.1.8': 1, '11.2.3': 1, '7.5.8': 1, '4.39': 1, '2.11.3': 1, '4.450': 1, '1.35': 4, '6.0.0': 4, '2.282': 1, '12.0.11': 1, '5.9.3': 1, '4.25': 1, '1.2.6': 10, '2.0.8': 4, '8.70': 1, '7.10.1': 1, '5.3.5': 1, '6.6.0': 2, '9.8.5': 1, '4.11': 3, '7.0.57': 1, '2.5.4': 5, '1.14.1': 1, '1.22': 3, '3.8.3': 3, '1.2.10': 2, '1.60': 3, '1.9.177609': 1, '3.8.4': 1, '7.13.0': 1, '1.7.7.78': 1, '8.0.5': 1, '6.1.5': 2, '2.6.5': 7, '4.33.3': 1, '3.7.3': 1, '9.24.12': 1, '1.4.2': 19, '3.6.3': 2, '6.1.82': 1, '1.2.4': 19, '4.12': 2, '3.20.6': 1, '2.0.5': 6, '3.2.8': 1, '1.05': 9, '1.23': 6, '4.45': 1, '2.7.3': 3, '6.1.8': 2, '5.37': 1, '4.3.1': 5, '58.0.3029.113': 1, '2.52': 1, '1.8.5': 8, '10.3.1': 1, '3.22': 1, '1.11.6': 1, '1.1.7': 9, '1.02': 19, '1.0.54': 1, '1.25.2500': 1, '1.5.2': 23, '3.5.20': 1, '4.98.98': 1, '6.1.80': 1, '12.21': 1, '6.80': 1, '2.5.7': 1, '1.6.9': 5, '1.0.55': 3, '1.30': 4, '5.0.4': 4, '2.4.11': 1, '4.1.5': 2, '7.1.1': 1, '3.11.25': 1, '1.49': 1, '1.10': 16, '1.4.24': 1, '2.13': 1, '2': 5, '3.16.0': 2, '3.11': 3, '6.8.4': 1, '2023': 2, '4.8.3': 1, '1.101.0': 1, '5.0.20': 1, '1.0.17': 2, '4.9.1': 1, '3.9.3': 3, '2.3.4': 7, '1.5.11': 2, '3.12.2': 1, '2.6.4': 3, '1.29.0': 1, '2.10.0': 6, '4.9': 4, '6.5.14': 2, '7.11.0': 1, '1.33.0': 1, '2.80': 1, '2.0.19': 1, '5.1.10': 1, '1.11.4': 2, '8.4.2': 1, '6.8.2': 1, '2.1.9': 2, '1.6.82': 1, '4.4.0': 3, '2.22.0': 2, '5.15.3': 1, '4.12.23': 1, '4.4.9': 1, '1.37': 1, '6.6.2': 1, '4.9.6': 1, '1.4.69': 1, '2.15.1': 1, '1.2.2': 38, '1.119.0': 1, '6.2.2': 1, '4.3.41': 1, '4.37.7': 1, '1.76': 1, '9.8': 2, '5.6': 3, '4.16.1': 1, '3.1.23': 1, '6.3.2': 3, '1.2.8': 2, '1.3.2': 24, '2.95': 1, '4.1.10': 2, '3.70.20429': 1, '2.16': 4, '2.1.5': 4, '5.32': 1, '5.7.5': 1, '4.31.1': 1, '3.5.2': 5, '2.46': 1, '7.3.3': 4, '3.31': 1, '2.6.7': 3, '5.4.2': 3, '1.60000.1': 1, '3.61': 1, '7.8.5': 1, '3.1.18': 1, '2.28.0': 2, '2.21.0': 2, '2.3.6': 1, '10.12.0': 1, '1.33': 6, '5.8.5': 1, '5.11.1': 1, '2.9.9': 1, '5.24.1': 1, '7.21.2': 1, '2.5.5': 3, '3.1.11': 1, '1.13.24': 2, '2.9.2': 1, '6.0.8': 1, '1.597': 1, '3.8.0': 1, '6.2.3': 2, '1.2.150': 1, '4.0.45': 1, '2.72.16': 1, '5.1.2': 1, '1.0.15': 4, '3.01': 3, '2.54': 2, '1.2.5': 11, '3.8.7': 3, '2.6.9': 2, '1.3.8': 3, '3.02.25': 1, '6.4.5': 3, '1.29.21.0': 1, '3.8.6': 1, '1.2.1.61': 1, '8.2.19371': 1, '3.7.2': 4, '2.9.3': 3, '1.11.3': 2, '1.03': 16, '1.98': 1, '6.1.6': 1, '2.2.22': 1, '5.9.6': 1, '12.1.1': 1, '1.2.12785': 1, '16.2': 2, '5.5.5': 1, '16.0.0': 1, '6.5.1': 1, '17.2.4': 1, '1.9.23': 1, '1.06': 8, '1.9.22': 1, '3.13.0': 1, '4.6.6': 1, '6.8.0': 1, '3.2.3': 4, '3.15': 3, '2.2.6': 2, '7.3.5': 1, '2.40': 2, '1.04': 11, '2.50': 1, '4.0.127': 1, '4.18.0': 1, '2.3.0': 5, '1.1.15': 1, '6.20': 1, '3.5.6': 2, '1.51': 3, '1.4.9': 4, '2.4.6': 5, '31.31.840': 1, '1.8.0': 9, '1.6.10': 1, '2.12.1': 2, '7.8.0': 1, '4.10.004': 1, '3.22.510': 1, '1.2.13': 4, '3.8.1': 3, '2.8.5': 2, '4.7.1': 2, '1.6.16': 1, '2.10.14': 1, '30.125': 1, '1.31.2': 1, '5.0.2': 1, '5.12': 1, '1.9.6': 3, '11.0': 5, '1.23.905': 1, '10.5': 1, '2.7.13': 1, '3.0.1.776': 1, '3.2.11': 1, '5.03': 1, '3.12.4': 1, '6.8.92': 1, '1.8.6': 2, '3.1.14': 1, '3.26.1007': 1, '3.3.8': 2, '2.13.1': 1, '10.3': 1, '2.15.2': 1, '1.9.29': 1, '5.10.5': 1, '1.9.83': 1, '3.8.10': 1, '2.0.16': 1, '1.21.0': 1, '5.5.101': 1, '1.072': 1, '1.56.0': 1, '1.26.010': 1, '1.0.24': 2, '14.80.6': 1, '1.21.1': 2, '4.8.4': 2, '1.102.1': 1, '1.40': 1, '2.2.4': 3, '2.5.3': 2, '2.4.0': 10, '3.2.7': 1, '8.0.12': 1, '6.2.5': 2, '3.0.18': 1, '1.14': 6, '1.97': 1, '1.13.1301': 1, '4.15.0': 1, '1.21.2': 1, '4.9.2': 2, '4.11.0': 1, '1.04.1': 1, '6.50.110': 1, '1.9.15': 1, '2.4.60': 1, '1.12.9': 1, '1705.522.332': 1, '1.5.8': 6, '2.33': 1, '2.2.5': 3, '4.21': 1, '2.2.7': 5, '1.00.11': 1, '2.10.0106': 1, '5.0.5': 3, '3.16': 1, '3.17': 2, '2.16.1': 2, '2.0.11': 1, '1.36': 5, '1.7.8': 2, '5.20.1': 1, '2.17.0': 3, '1.40.23': 1, '1.2.67152': 1, '1.0.10': 12, '1.966': 1, '1.7.248694': 1, '5.6.15': 1, '1.9.5': 4, '0.5.7961': 1, '4.12.1': 1, '7.8': 1, '1.2.17': 2, '4.11.10': 1, '1.3.1.1': 1, '3.0.6': 4, '1.8.2': 8, '3.58': 1, '1.13.14': 1, '1.1.34': 1, '01.44.02': 1, '1.7.1': 12, '1.04.00': 1, '3.11.2': 1, '2.3.7': 1, '1.99': 1, '1.10.14': 1, '8.6.4': 1, '2.7.4': 4, '5.35': 1, '4.0.14': 1, '3.20': 1, '1.2.14': 2, '1.70.0': 1, '1.2.1769': 1, '1.7.9': 1, '1.77.0': 1, '4.93': 1, '2.31.0': 1, '1.5.14': 1, '7.2.0': 1, '6.5.3': 1, '5.7.3': 1, '1.16.9309': 1, '5.17.4': 1, '4.24.2': 1, '1.48.3': 1, '1.9.7': 2, '5.8': 1, '5.8.8': 1, '4.23': 1, '2.44.2': 1, '1.2017.20203': 1, '1.2017.20204': 2, '6.5.7': 1, '1.17': 5, '1.74': 1, '1.55': 4, '4.10.0': 1, '1.53': 1, '1.91.5': 1, '1.3.11': 1, '1.0.27': 1, '2.43': 1, '1.89': 1, '3.4.3': 5, '1.2.99': 1, '3.1.83': 1, '1.34': 2, '3.91': 2, '2.2.1230': 1, '5.20.0': 1, '2.500': 1, '1.4.44': 1, '5.9.03': 1, '2.37.6': 1, '3.26.1': 1, '2.8.12': 1, '4.7': 2, '2.0.65': 1, '2017.5.1': 1, '1.32.2': 1, '10.6.1': 1, '1.27.1': 1, '2.4.7': 4, '1.1.9': 4, '2.10.1': 2, '6.3.6': 1, '4.22.260026988': 1, '2.7.9': 1, '2.13.0': 2, '3.11.3': 1, '1.25.0': 1, '1.28.1': 2, '1.130': 1, '3.19.10': 1, '2.7.0': 4, '2.4.8': 1, '1': 2, '18.97': 1, '2.032': 1, '5.1.6': 1, '2.3.10': 1, '1.42.0': 1, '1.4.5': 7, '4.3.9': 1, '1.1.001': 1, '3348': 1, '3.2.16': 1, '2.62': 1, '1.0.32': 2, '3.5.8': 1, '2.3.8': 3, '2.6.8': 4, '1.0.12': 3, '4.14.3': 1, '1.0.20': 3, '1.2.299': 1, '1.13.1': 1, '13.1.0': 1, '3.25': 1, '1.38.1012249': 1, '5.8.1': 1, '2.5.59': 1, '1.18': 4, '0.13': 1, '1.300': 2, '1.025b': 1, '2.2.13': 3, '2.1.12': 2, '1.3.170423': 1, '1.15.0': 3, '3.12.0': 1, '8.2.3': 1, '1.043': 1, '4.18.1': 1, '2.03': 1, '6.1.23': 1, '1.0.45': 1, '1.1.16': 1, '1.8.8': 3, '54': 1, '1.15.4': 1, '0.14.87': 1, '6.2.6': 1, '1.16.94': 1, '1.18.0': 3, '01.19': 1, '2.7.7': 1, '2.1.10': 2, '3.32.162': 1, '1.6.20': 1, '1.85.1': 1, '7.0.1789': 1, '2.28': 1, '1.81': 1, '1.90': 1, '1.19.0': 2, '1.2.34': 1, '150': 1, '0.8.0': 1, '1.4.009': 1, '2.09.00': 1, '4.03': 1, '2.27': 2, '2.2017.21202': 1, '7.0.2': 1, '1.64': 2, '24.92.0': 1, '3.4.11': 1, '1.12.6': 1, '1.19.4': 1, '1.17.6': 1, '8.0': 1, 'v3.6.9': 1, '1.11.2': 1, '2000': 1, '0.8.8': 1, '2.1.7': 2, '0.8.6': 1, '1.00': 3, '1.32.3': 1, '3.22.515': 1, '1.66': 1, '2.19.13': 1, '1.6.401': 1, '1.23.0': 1, '1.6.1600': 1, '4.0.02': 1, '1.16.0': 2, '3.16.1': 1, '1.15': 4, '1.2.9': 2, '1.5.12': 2, '2.1.6': 4, '2.0.2478': 1, '2.44.0': 1, '7.22': 1, 'v2.2.21': 1, '29.10.18': 1, '3.43': 1, '2.1.24': 1, '1.2.008': 1, '4.1.3': 1, '1.34.60': 1, '1.3.7': 7, '10.8.0': 1, '1.41': 5, '2.2.8': 1, '1.0.1.50': 1, '2.27.0': 1, '2.18': 1, '3.9.90': 1, '9.13.0': 1, '1.1.11': 2, '15': 1, '3.21': 1, '9.12.0000': 4, '2.5.6': 2, '1.0.205806': 1, '1.10.0': 5, '1.16.1': 1, '1.2.15': 1, '1.59': 1, '1.6.12': 2, '2.0000': 1, '1.82': 2, '2.5.9': 1, '3.0.20': 2, '3.6.5': 1, '1.1.6.4.3': 1, '8.9.1423': 1, '1.16.3': 1, '3.901': 1, '0.8.3': 1, '1.3.18': 2, '1.0.68': 1, '1.0.14': 5, '3.1.27': 1, '3.3.6': 1, '43.0.1': 1, '708': 1, '1,2.4': 1, '20.8': 1, '4.9.12': 1, '1.30.10': 1, '4.0.55': 1, '1.4.6': 5, '1.4.8': 4, '2.8.7': 1, 'V3.7.0': 1, '1.13.0': 2, '1.12.0': 3, '1.24': 3, '1.18.1': 1, '4.2.00': 1, '1.24.0': 1, '1.14.0': 2, '4.1.7': 2, '1.3.205': 1, '23.5': 1, '1.72': 1, '7.4.57': 1, '1.172': 1, '2.4.3': 2, '1.19.1': 1, '18': 1, '2.100': 1, '1.28.4': 1, '1.0.88463': 1, '1.7.15': 1, '6.01': 1, '2.396': 1, '1.14.13': 1, '1.1.010': 1, '1.1.43': 1, '1.102': 2, '14.0': 1, '4.0.6': 7, '2.7.8': 2, '1.02.08': 1, '2.0.7': 3, '2.07': 1, '1.2.02': 1, '5.0.7': 1, '9999.1.6': 1, '3.4.176411': 1, '1.34.7': 1, '4.04': 1, '1.02.51': 1, '1.1.42': 1, '1.70': 1, '2.25': 1, '1.1.54': 1, '1.11.04': 1, '2.0.6.052406': 1, '7.7': 1, '1.34.3': 1, '1.0.21': 1, '3.0.33': 1, '1.78': 1, '1.11.5': 1, '3.2.9': 1, '3.19': 1, '2.3.15': 1, '1.0.5.0': 1, '9999.1.8': 1, '4.9.99': 1, '1.6.1.002': 1, 'v1.865': 1, '1.151': 1, '1.10.6': 1, '1.1.122': 1, '1.10.3': 1, '3.1.9': 2, '1.44': 1, '2.4.151': 1, 'Update 1.1': 1, '1.1.12': 1, '18.32': 1, '62.20.102': 1, '1.8.21': 1, '2.0.24.2': 1, '2.08': 1, '1.371': 1, '14.2': 1, '0.8': 3, '1.0.18': 2, '3.1.4': 1, '3.0.26': 1, '2.9.4': 1, '2.26': 1, '2.7.5': 1, '2.0.13': 1, '1.0.138': 1, '1.0.29': 1, '1.12.383': 1, '1.9.28': 1, '0.4': 1, '1.2.12': 1, '3.23.0': 1, '1.91': 1, '2.0.15': 1, '9999.1.2': 4, '2.901.17125': 1, '1.42.13': 1, '9.28.0': 1, '1.2.58': 1, '1.0.13': 2, '9.12.0001': 1, '1.11.1': 2, '2.718291': 1, '1.127': 1, '1.11.38': 1, '1.12.7': 1, '1.4.3673': 1, '9.11.1000': 2, '1.9.682': 1, '1.1.9.0': 1, '3.03': 1, '4.50.17': 1, '7.91': 1, '104': 1, '1.1.44': 1, '26.0': 1, '2.11.0': 1, '1.05.005': 1, '5.3.3': 1, '2.9.43': 1, '1.11.1430': 1, '1.50': 1, '4.12.0': 1, '1.0.5761': 1, '0.57.3': 1, '9.12.0002': 1, '1.86.1': 1, '7.3.1': 1, '1.16.2': 1, '5.0.25': 1, '5.0.34': 1, '1.28': 1, '1.27': 1, '4.57.1': 1, '22.00.08': 1, '1.0.26': 2, '1.38': 1, '1.2.25': 1, '2.42.0': 1, '1.0.228': 1, '9999.1.3': 1, '1.1.25': 1, '2017.6': 1, '1.0.83': 1, '2.06': 3, '5.3.8': 1, '2.972': 1, '1.13.891': 1, '1.0.2.5': 1, '01.03.00': 1, '4.1.19': 1, '1.1.21': 1, '1.0.7541': 1, '1.0.2551': 1, '00.00.09': 1, '27.0.84': 1, '10.0.33': 1, '2.1.8': 1, '1.8.22': 1, '1.2.92': 1, '1.17.0': 1, '1.1.20': 1, '8.7.1': 1, '1.0.37': 1, '0.0.15': 1, '1.0.62': 1, '1.3.20': 1, '1.26': 3, '4.7.02': 1, '1.025': 1, '12.1': 1, '1.9.763': 1, '2.7.6': 1, '1.1.10': 1, '0.93': 1, '1.1.60': 1, '1.4.393': 1, '1.0.212': 1, '0.81': 1, '3.6.20': 1, '3.9.27': 1, '1.12.2': 1, '1.4.100': 1, '1.0.22': 1, '3.735': 1, '8.1.4': 1, '4.2.8': 1, '3': 2, '12.04': 1, '1.33.1': 1, '17.3.1': 1, '1.0.418': 1, '1.121': 1, '1.3.32': 1, '2.14.3': 1, '1.0.28': 1, '1.0.97': 1, '1.39': 1, '2.1.6471': 1, '10.99': 1, '2.3.7804': 1, '1.8.11': 1, '1.14.31': 1, '4': 3, '1.406': 1, '1.22.0': 1, '1.24.130666': 1, '11': 1, '1.4.7': 3, '3.4.6': 1, '2.60': 1, '2.29.0': 1, '1.112': 1, '1.117': 1, '17.0.631': 1, '3.0.51': 1, '3.0.60': 1, '1.0.1.5': 1, '2017.3.35': 1, '4.420': 1, '0.9': 2, '1.5.10': 2, '1.2.20': 1, '1.1.55': 1, '4.58': 2, '2.4.4.1': 1, '1.92': 1, '0.2': 1, '1.2.118': 1, '1.111': 2, '17.0.2': 1, '1.75': 1, '1.0.226816': 1, '1.0.833': 1, '12': 1, '7.6.0': 1, '3.158.1': 1, '1.2.3 Build 19': 1, '0.23.25': 1, '1.5.61': 1, '1.024': 1, '1.171.11': 1, '0.5.7': 1, '0.3': 1, '4.2.11': 1, '1.0.31': 1, '1.0.243903': 1, '1.1.5768': 1, '1.42': 1, '24.0': 1, '1.1.13': 1, '1.175': 1, '0.17.518': 1, '2.05': 1, '4.96.1': 1, '1.3.': 1, '1.14.9': 1, '4.8.19': 1, '6': 1, '0.4.400': 1, '5.5.6': 1, '1.0.35': 1, '2.8.23': 1, '1.1.85.1581': 1, '2.3.3006': 1, '9999.1.1': 1, '0.16.3': 1, '1.0.86': 1, '1.3.40': 1, '2.0.10': 1, '6.1.13': 1, '0.6.41': 1, '2.0.20.1': 1}\n"
     ]
    }
   ],
   "source": [
    "\n",
    "content_ratings={}\n",
    "\n",
    "for app in apps_data[1:]:\n",
    "    c_rating=app[10]\n",
    "    if c_rating in content_ratings:\n",
    "        content_ratings[c_rating] +=1\n",
    "    else:\n",
    "        content_ratings[c_rating]=1\n",
    "print(content_ratings)"
   ]
  },
  {
   "cell_type": "markdown",
   "metadata": {},
   "source": [
    "## 9. Proportions and Percentages"
   ]
  },
  {
   "cell_type": "markdown",
   "metadata": {},
   "source": [
    "* What proportion of apps have a content rating of 4+?\n",
    "* What percentage of apps have a content rating of 17+?\n",
    "* What percentage of apps can a 15-year-old download?"
   ]
  },
  {
   "cell_type": "code",
   "execution_count": 10,
   "metadata": {},
   "outputs": [
    {
     "name": "stdout",
     "output_type": "stream",
     "text": [
      "{'4+': 4433, '12+': 1155, '17+': 622, '9+': 987}\n"
     ]
    }
   ],
   "source": [
    "genre_counting={}\n",
    "\n",
    "for app in apps_data[1:]:\n",
    "    genre=app[11]\n",
    "    if genre in genre_counting:\n",
    "        genre_counting[genre]+=1\n",
    "    else:\n",
    "        genre_counting[genre]=1\n",
    "print(genre_counting)    "
   ]
  },
  {
   "cell_type": "markdown",
   "metadata": {},
   "source": [
    "## 10.Looping over Dictionaries"
   ]
  },
  {
   "cell_type": "code",
   "execution_count": 11,
   "metadata": {},
   "outputs": [
    {
     "name": "stdout",
     "output_type": "stream",
     "text": [
      "What percentage of apps can a 15-year-old download: 91.35751007364179\n",
      "What percentage of apps have a content rating of 17+ is  8.642489926358204\n"
     ]
    }
   ],
   "source": [
    "# What percentage of apps can a 15-year-old download?\n",
    "\n",
    "content_ratings = {'4+': 4433, '12+': 1155, '9+': 987, '17+': 622}\n",
    "total_number_of_apps = 7197\n",
    "for key in content_ratings:\n",
    "    content_ratings[key] /=total_number_of_apps\n",
    "    content_ratings[key] *=100\n",
    "percentage_17_plus=content_ratings['17+']\n",
    "percentage_15_allowed=content_ratings['4+']+content_ratings['12+'] + content_ratings['9+']\n",
    "print(\"What percentage of apps can a 15-year-old download:\",percentage_15_allowed)\n",
    "print(\"What percentage of apps have a content rating of 17+ is \",percentage_17_plus)"
   ]
  },
  {
   "cell_type": "markdown",
   "metadata": {},
   "source": [
    "## 11. Keeping the Dictionaries Separate"
   ]
  },
  {
   "cell_type": "markdown",
   "metadata": {},
   "source": [
    "we might want to have three separate dictionaries: one storing frequencies, another storing proportions, and another storing percentages."
   ]
  },
  {
   "cell_type": "code",
   "execution_count": 12,
   "metadata": {},
   "outputs": [
    {
     "name": "stdout",
     "output_type": "stream",
     "text": [
      "{'4+': 0.6159510907322495, '12+': 0.16048353480616923, '9+': 0.13714047519799916, '17+': 0.08642489926358204}\n",
      "{'4+': 61.595109073224954, '12+': 16.04835348061692, '9+': 13.714047519799916, '17+': 8.642489926358204}\n"
     ]
    }
   ],
   "source": [
    "content_ratings = {'4+': 4433, '12+': 1155, '9+': 987, '17+': 622}\n",
    "total_number_of_apps = 7197\n",
    "c_ratings_proportions={}\n",
    "c_ratings_percentages={}\n",
    "for key in content_ratings:\n",
    "    c_ratings_proportions[key]=content_ratings[key]/total_number_of_apps\n",
    "    c_ratings_percentages[key]=c_ratings_proportions[key]*100\n",
    "print(c_ratings_proportions)\n",
    "print(c_ratings_percentages)"
   ]
  },
  {
   "cell_type": "markdown",
   "metadata": {},
   "source": [
    "## 12.. Frequency Tables for Numerical Columns"
   ]
  },
  {
   "cell_type": "markdown",
   "metadata": {},
   "source": [
    "* Creating frequency tables for certain columns may result in creating lengthy dictionaries because of the large number of unique values. \n",
    "* A lengthy frequency table is difficult to analyze. The lengthier the table, the harder it becomes to see any patterns.\n",
    "* Using intervals helps us segment the data into groups, which eases analysis. "
   ]
  },
  {
   "cell_type": "code",
   "execution_count": 14,
   "metadata": {},
   "outputs": [
    {
     "name": "stdout",
     "output_type": "stream",
     "text": [
      "0.0\n",
      "299.99\n"
     ]
    }
   ],
   "source": [
    "# finding min max values to decide interval\n",
    "data_sizes=[]\n",
    "for row in apps_data[1:]:\n",
    "    size=float(row[5])\n",
    "    data_sizes.append(size)\n",
    "min_size=min(data_sizes)\n",
    "max_size=max(data_sizes)\n",
    "print(min_size)\n",
    "print(max_size)"
   ]
  },
  {
   "cell_type": "markdown",
   "metadata": {},
   "source": [
    "## 13. Filtering for the Intervals"
   ]
  },
  {
   "cell_type": "markdown",
   "metadata": {},
   "source": [
    "We want to store the frequency table as a dictionary. We begin by creating a dictionary with the intervals as dictionary keys and frequencies as dictionary values (we initialize all frequencies with zero):"
   ]
  },
  {
   "cell_type": "code",
   "execution_count": 16,
   "metadata": {},
   "outputs": [],
   "source": [
    "user_ratings_freq = {'0 - 10000': 0, '10000 - 100000': 0, '100000 - 500000': 0,\n",
    "                    '500000 - 1000000': 0, '1000000+': 0}\n",
    "\n",
    "for row in apps_data[1:]:\n",
    "    user_ratings = int(row[6])\n",
    "    \n",
    "    if user_ratings <= 10000:\n",
    "        user_ratings_freq['0 - 10000'] += 1\n",
    "        \n",
    "    elif 10000 < user_ratings <= 100000:\n",
    "        user_ratings_freq['10000 - 100000'] += 1\n",
    "        \n",
    "    elif 100000 < user_ratings <= 500000:\n",
    "        user_ratings_freq['100000 - 500000'] += 1\n",
    "        \n",
    "    elif 500000 < user_ratings <= 1000000:\n",
    "        user_ratings_freq['500000 - 1000000'] += 1\n",
    "        \n",
    "    elif user_ratings > 1000000:\n",
    "        user_ratings_freq['1000000+'] += 1\n"
   ]
  },
  {
   "cell_type": "markdown",
   "metadata": {},
   "source": [
    "In this mission, we learned about dictionaries and focused on how to use them to build frequency tables. Frequency tables are common in data science practice"
   ]
  }
 ],
 "metadata": {
  "kernelspec": {
   "display_name": "Python 3",
   "language": "python",
   "name": "python3"
  },
  "language_info": {
   "codemirror_mode": {
    "name": "ipython",
    "version": 3
   },
   "file_extension": ".py",
   "mimetype": "text/x-python",
   "name": "python",
   "nbconvert_exporter": "python",
   "pygments_lexer": "ipython3",
   "version": "3.7.0"
  }
 },
 "nbformat": 4,
 "nbformat_minor": 2
}
